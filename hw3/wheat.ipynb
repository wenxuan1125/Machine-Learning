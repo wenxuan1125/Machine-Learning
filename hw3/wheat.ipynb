{
 "cells": [
  {
   "cell_type": "code",
   "execution_count": 1,
   "metadata": {},
   "outputs": [],
   "source": [
    "import numpy as np\n",
    "import pandas as pd\n",
    "from sklearn.decomposition import PCA\n",
    "from math import sqrt\n",
    "from sklearn import utils\n",
    "from sklearn import metrics\n",
    "from sklearn.metrics import confusion_matrix\n",
    "import matplotlib.pyplot as plt\n",
    "import seaborn as sns; sns.set()\n",
    "import re"
   ]
  },
  {
   "cell_type": "code",
   "execution_count": 2,
   "metadata": {},
   "outputs": [],
   "source": [
    "file_data = ''\n",
    "file_path = 'D:/vscode-projects/Python-projects/ML/hw3/seeds_dataset.txt'\n",
    "with open(file_path, 'r') as f:\n",
    "    for line in f:\n",
    "    \n",
    "        line = re.sub(r'[\\t]+', '\\t', line)\n",
    "        file_data += line\n",
    "with open(file_path, 'w') as f:\n",
    "    f.write(file_data)"
   ]
  },
  {
   "cell_type": "code",
   "execution_count": 3,
   "metadata": {},
   "outputs": [],
   "source": [
    "# load data\n",
    "df = pd.read_csv('D:/vscode-projects/Python-projects/ML/hw3/seeds_dataset.txt', \n",
    "                 names = ['area', 'perimeter', 'compactness', 'length of kernel', \n",
    "                 'width of kernel', 'asymmetry coefficient', 'length of kernel groove', 'label'], delimiter='\\t',index_col='label')  \n",
    "\n",
    "\n",
    "feature_names = df.columns.values\n",
    "datas = df.values\n",
    "datas = datas.astype('float64')\n",
    "labels = df.index.values\n",
    "labels -= 1\n",
    "datas, labels = utils.shuffle(datas, labels)\n",
    "\n",
    "\n",
    "# print(feature_names)\n",
    "# print(datas.shape)\n",
    "# print(labels.shape)"
   ]
  },
  {
   "cell_type": "code",
   "execution_count": 4,
   "metadata": {},
   "outputs": [],
   "source": [
    "def random_create_sample(features_max, features_min, n):\n",
    "    samples = np.zeros((n, len(features_max)))\n",
    "    for i in range(len(features_max)):\n",
    "        \n",
    "        samples[:, i] = np.random.uniform(low=features_min[i], high=features_max[i], size=n)\n",
    "        \n",
    "    return samples\n",
    "\n",
    "def Euclidean_distance(p1, p2):\n",
    "    dis = 0\n",
    "    for i in range(p1.shape[0]):\n",
    "        dis += (p1[i] - p2[i])**2\n",
    "    dis = sqrt(dis)\n",
    "\n",
    "    return dis\n",
    "def K_means(datas, k, max_iterate):\n",
    "    features_max = datas.max(axis=0)\n",
    "    features_min = datas.min(axis=0)\n",
    "\n",
    "    centers = random_create_sample(features_max, features_min, k)\n",
    "    \n",
    "    clusters = np.zeros(datas.shape[0])\n",
    "\n",
    "    for iterate in range(max_iterate):\n",
    "        \n",
    "        pre_clusters = clusters.copy()\n",
    "\n",
    "        # assignment step\n",
    "        for i in range(datas.shape[0]):\n",
    "            min_dis = 10000000\n",
    "            for j in range(k):\n",
    "                dis = Euclidean_distance(centers[j], datas[i])\n",
    "                if(dis < min_dis):\n",
    "                    min_dis = dis\n",
    "                    clusters[i] = j\n",
    "\n",
    "        # update step\n",
    "        for i in range(k):\n",
    "            cluster_mask = [predict in [i] \n",
    "                    for predict in clusters]\n",
    "            points_in_cluster = datas[cluster_mask]\n",
    "            if(points_in_cluster.shape[0]!=0):\n",
    "                centers[i] = points_in_cluster.mean(axis=0)\n",
    "\n",
    "        if np.array_equal(pre_clusters, clusters):\n",
    "            break\n",
    "\n",
    "    return clusters, centers  \n",
    "    \n",
    "def plot_confusion_matrix(mat, title, xyticklabels, pos=None):\n",
    "    if pos != None:\n",
    "        plt.subplot(pos)\n",
    "    sns.heatmap(mat.T, square=True, annot=True, fmt='.2f', cbar=False,\n",
    "                xticklabels=xyticklabels, yticklabels=xyticklabels)\n",
    "    plt.xlabel('true label')\n",
    "    plt.ylabel('predicted label')\n",
    "    plt.title(title)     \n",
    "def assign_predict_labels(clusters, labels, n):\n",
    "    assignment = np.zeros(n)\n",
    "    for i in range(n):\n",
    "        cluster_mask = [predict in [i] \n",
    "                    for predict in clusters]\n",
    "        cluster_label = labels[cluster_mask]\n",
    "        assignment[i] = np.argmax(np.bincount(cluster_label))\n",
    "        \n",
    "    # print(assignment)\n",
    "    \n",
    "    cp_clusters = clusters.copy()\n",
    "    for i in range(n):\n",
    "        clusters = np.where(cp_clusters == i, assignment[i], clusters)    # if cp_clusters's element value == i, \n",
    "                                                                             # change this element value to assignment[i] \n",
    "                                                                             # else remains its value\n",
    "\n",
    "    return clusters                                                           "
   ]
  },
  {
   "cell_type": "code",
   "execution_count": 20,
   "metadata": {},
   "outputs": [
    {
     "data": {
      "image/png": "[encoded data removed]",
      "text/plain": [
       "<Figure size 432x288 with 1 Axes>"
      ]
     },
     "metadata": {},
     "output_type": "display_data"
    },
    {
     "name": "stdout",
     "output_type": "stream",
     "text": [
      "   Precision    Recall\n",
      "0   0.833333  0.857143\n",
      "1   0.983871  0.871429\n",
      "2   0.881579  0.957143\n",
      "accuracy      0.895238\n"
     ]
    }
   ],
   "source": [
    "clusters, centers = K_means(datas, 3, 2000)\n",
    "predicts = assign_predict_labels(clusters, labels, 3)\n",
    "# print(predicts)\n",
    "plot_confusion_matrix(confusion_matrix(labels, predicts), 'wheat', [0, 1, 2])\n",
    "plt.show()\n",
    "\n",
    "precision = metrics.precision_score(labels, predicts, average=None)\n",
    "recall = metrics.recall_score(labels, predicts, average=None)\n",
    "accuracy = metrics.accuracy_score(labels, predicts)\n",
    "\n",
    "table = pd.DataFrame( [[precision[0], recall[0]],[precision[1], recall[1]], [precision[2], recall[2]]], \n",
    "        index=[0, 1, 2],\n",
    "        columns=['Precision', 'Recall'])\n",
    "print(table)\n",
    "print('accuracy      {:.6f}'.format(accuracy))"
   ]
  },
  {
   "cell_type": "code",
   "execution_count": 6,
   "metadata": {},
   "outputs": [
    {
     "name": "stdout",
     "output_type": "stream",
     "text": [
      "[0.8293852  0.16363245]\n"
     ]
    },
    {
     "data": {
      "image/png": "[encoded data removed]",
      "text/plain": [
       "<Figure size 432x288 with 1 Axes>"
      ]
     },
     "metadata": {},
     "output_type": "display_data"
    }
   ],
   "source": [
    "# question\n",
    "\n",
    "pca = PCA(n_components=2)\n",
    "pca.fit(datas)\n",
    "pca_datas = pca.transform(datas)\n",
    "print(pca.explained_variance_ratio_)\n",
    "\n",
    "predicts, centers = K_means(pca_datas, 3, 2000)\n",
    "\n",
    "# print(predicts)\n",
    "# print(centers)\n",
    "\n",
    "\n",
    "st0 = plt.scatter(pca_datas[predicts == 0, 0], pca_datas[predicts == 0, 1], s=2.5, color='green')\n",
    "st1 = plt.scatter(pca_datas[predicts == 1, 0], pca_datas[predicts == 1, 1], s=2.5, color='blue')\n",
    "st2 = plt.scatter(pca_datas[predicts == 2, 0], pca_datas[predicts == 2, 1], s=2.5, color='purple')\n",
    "stc = plt.scatter(centers[:, 0], centers[:, 1], s=15, color='red')\n",
    "\n",
    "plt.legend([st0, st1, st2, stc], [1, 2, 3, 'center'])\n",
    "\n",
    "\n",
    "plt.show()"
   ]
  }
 ],
 "metadata": {
  "interpreter": {
   "hash": "1baa965d5efe3ac65b79dfc60c0d706280b1da80fedb7760faf2759126c4f253"
  },
  "kernelspec": {
   "display_name": "Python 3.8.10 64-bit",
   "language": "python",
   "name": "python3"
  },
  "language_info": {
   "codemirror_mode": {
    "name": "ipython",
    "version": 3
   },
   "file_extension": ".py",
   "mimetype": "text/x-python",
   "name": "python",
   "nbconvert_exporter": "python",
   "pygments_lexer": "ipython3",
   "version": "3.8.10"
  },
  "orig_nbformat": 4
 },
 "nbformat": 4,
 "nbformat_minor": 2
}
