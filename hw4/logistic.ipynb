{
 "cells": [
  {
   "cell_type": "code",
   "execution_count": 1,
   "metadata": {},
   "outputs": [],
   "source": [
    "import numpy as np\n",
    "from sklearn.linear_model import LogisticRegression\n",
    "import matplotlib.pyplot as plt\n",
    "from matplotlib.colors import ListedColormap\n",
    "import seaborn as sns; sns.set()"
   ]
  },
  {
   "cell_type": "code",
   "execution_count": 2,
   "metadata": {},
   "outputs": [],
   "source": [
    "y = np.random.randint(2, size=1000)\n",
    "x = np.zeros((1000, 2))\n",
    "\n",
    "for i in range(1000):\n",
    "    mean = [y[i], y[i]]\n",
    "    cov = [[0.1, 0], [0, 0.1]]\n",
    "    x[i, :] = np.random.multivariate_normal(mean, cov)\n"
   ]
  },
  {
   "cell_type": "code",
   "execution_count": 3,
   "metadata": {},
   "outputs": [
    {
     "name": "stdout",
     "output_type": "stream",
     "text": [
      "The accuracy of the model: 0.992\n",
      "The weights and the corresponded terms of the model: yi = L( -5.228952186282611  + 5.689948505561741  ×  Xi0  + 4.682243903583087  ×  Xi1 )\n"
     ]
    }
   ],
   "source": [
    "model = LogisticRegression()\n",
    "model.fit(x, y)\n",
    "predicts = model.predict(x)\n",
    "accuracy = model.score(x, y)\n",
    "print('The accuracy of the model: '+ str(accuracy))\n",
    "print('The weights and the corresponded terms of the model: ', end='')\n",
    "print(\"yi = L(\", model.intercept_[0], str(model.coef_[0][0]) if model.coef_[0][0] < 0 else ' + ' + str(model.coef_[0][0]), ' × ', 'Xi0', str(model.coef_[0][1]) if model.coef_[0][1] < 0 else ' + ' + str(model.coef_[0][1]),' × ', 'Xi1', ')')\n",
    "# print(model.coef_)\n",
    "# print(model.intercept_)"
   ]
  },
  {
   "cell_type": "code",
   "execution_count": 4,
   "metadata": {},
   "outputs": [
    {
     "data": {
      "image/png": "[encoded data removed]",
      "text/plain": [
       "<Figure size 432x288 with 1 Axes>"
      ]
     },
     "metadata": {},
     "output_type": "display_data"
    }
   ],
   "source": [
    "# Create color maps -> boundary color\n",
    "cmap_light = ListedColormap(['#ffdee0', '#d1f4b7'])\n",
    "\n",
    "# Plot the decision boundary. For that, we will assign a color to each\n",
    "# point in the mesh [x_min, x_max]x[y_min, y_max].\n",
    "x0_min = x[:, 0].min() - 1\n",
    "x0_max = x[:, 0].max() + 1\n",
    "x1_min = x[:, 1].min() - 1\n",
    "x1_max = x[:, 1].max() + 1\n",
    "\n",
    "# step size in the mesh\n",
    "delta = .005\n",
    "xx, yy = np.meshgrid(np.arange(x0_min, x0_max, delta), np.arange(x1_min, x1_max, delta))\n",
    "# np.ravel() flatten the matrix \n",
    "# np.c[m1, m2] zips corresponding element of the two row matrix m1, m2\n",
    "Z = model.predict(np.c_[xx.ravel(), yy.ravel()])\n",
    "\n",
    "# Put the result into a color plot\n",
    "Z = Z.reshape(xx.shape)\n",
    "plt.figure()\n",
    "plt.pcolormesh(xx, yy, Z, cmap=cmap_light, shading='auto')\n",
    "\n",
    "# Plot also the datas points\n",
    "st0 = plt.scatter(x[y == 0, 0], x[y == 0, 1], s=2.5, color='red', label=f\"$y_i=0$\")\n",
    "st1 = plt.scatter(x[y == 1, 0], x[y == 1, 1], s=2.5, color='green', label=f\"$y_i=0$\")\n",
    "\n",
    "plt.xlim(xx.min(), xx.max())\n",
    "plt.ylim(yy.min(), yy.max())\n",
    "plt.legend()\n",
    "plt.xlabel(f\"$x_i0$\")\n",
    "plt.ylabel(f\"$x_i1$\")\n",
    "plt.show()"
   ]
  }
 ],
 "metadata": {
  "interpreter": {
   "hash": "1baa965d5efe3ac65b79dfc60c0d706280b1da80fedb7760faf2759126c4f253"
  },
  "kernelspec": {
   "display_name": "Python 3.8.10 64-bit",
   "language": "python",
   "name": "python3"
  },
  "language_info": {
   "codemirror_mode": {
    "name": "ipython",
    "version": 3
   },
   "file_extension": ".py",
   "mimetype": "text/x-python",
   "name": "python",
   "nbconvert_exporter": "python",
   "pygments_lexer": "ipython3",
   "version": "3.8.10"
  },
  "orig_nbformat": 4
 },
 "nbformat": 4,
 "nbformat_minor": 2
}
